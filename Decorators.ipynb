{
  "nbformat": 4,
  "nbformat_minor": 0,
  "metadata": {
    "colab": {
      "provenance": []
    },
    "kernelspec": {
      "name": "python3",
      "display_name": "Python 3"
    },
    "language_info": {
      "name": "python"
    }
  },
  "cells": [
    {
      "cell_type": "markdown",
      "source": [
        "# Decorators in Python\n",
        "\n",
        "## Introduction\n",
        "\n",
        "Decorators are a powerful feature in Python that allows you to modify or extend the behavior of functions or methods without changing their actual code. A decorator is a function that takes another function as an argument, adds some functionality, and returns a new function.\n",
        "\n",
        "## Basic Syntax\n",
        "\n",
        "The `@decorator_name` syntax is used to apply a decorator to a function.\n",
        "\n",
        "## Use Cases\n",
        "\n",
        "- **Code Reusability**: Decorators allow us to wrap a function or method with additional functionality. This is useful when we want to extend the behavior of a function without modifying its source code.\n",
        "- **Logging and Timing**: Decorators can be used to log the start and end of a function execution time, which is helpful for debugging and performance testing.\n",
        "- **Access Control and Authentication**: Decorators can control access to certain functions based on certain conditions, making them useful in web development for user authentication and authorization.\n"
      ],
      "metadata": {
        "id": "QWIUJIXbFRHa"
      }
    },
    {
      "cell_type": "markdown",
      "source": [
        "## Examples\n"
      ],
      "metadata": {
        "id": "4UYKaFf3j1Oa"
      }
    },
    {
      "cell_type": "markdown",
      "source": [
        "### Example 1: Higher-Order Functions\n"
      ],
      "metadata": {
        "id": "Auh7BDcyj306"
      }
    },
    {
      "cell_type": "code",
      "source": [
        "def add1(x):\n",
        "    return x + 1\n",
        "\n",
        "# Taking function as argument\n",
        "def operate(func, x):\n",
        "    result = func(x)\n",
        "    return result\n",
        "\n",
        "print(operate(add1, 3))"
      ],
      "metadata": {
        "colab": {
          "base_uri": "https://localhost:8080/"
        },
        "id": "KCHx18HWj8ic",
        "outputId": "b81b8175-3397-455a-b99b-e6f606aa3f84"
      },
      "execution_count": 1,
      "outputs": [
        {
          "output_type": "stream",
          "name": "stdout",
          "text": [
            "4\n"
          ]
        }
      ]
    },
    {
      "cell_type": "markdown",
      "source": [
        "#### Explanation\n",
        "\n",
        "- **Function Definition**: Created a function named `add1` that takes an argument `x` and returns `x + 1`.\n",
        "- **Function as Argument**: Created a function named `operate` that takes two arguments: a function `func` and a variable `x`. It applies `func` to `x` and returns the result.\n",
        "- **Function Call**: The last line calls the `operate` function with `add1` as the function argument and 3 as the variable. The `add1` function is applied to 3, resulting in 4, which is then printed.\n"
      ],
      "metadata": {
        "id": "w1ktXpNyku_S"
      }
    },
    {
      "cell_type": "markdown",
      "source": [
        "### Example 2: Python Closures\n"
      ],
      "metadata": {
        "id": "oVYIIDR2kFx6"
      }
    },
    {
      "cell_type": "code",
      "source": [
        "# Function inside function\n",
        "def print_msg(message):\n",
        "    greeting = \"Hello\"\n",
        "\n",
        "    def printer():\n",
        "        print(greeting, message)\n",
        "\n",
        "    printer()\n",
        "\n",
        "print_msg(\"AR\")\n",
        "\n",
        "print(\"\\n\")\n",
        "###########################################\n",
        "\n",
        "# Function return another function as value\n",
        "def print_msg(message):\n",
        "    greeting = \"Hello,\"\n",
        "\n",
        "    def printer():\n",
        "        print(greeting, message)\n",
        "\n",
        "    return printer\n",
        "\n",
        "func = print_msg(\"AR!\")\n",
        "func()"
      ],
      "metadata": {
        "colab": {
          "base_uri": "https://localhost:8080/"
        },
        "id": "2MK6Z2NXkm9e",
        "outputId": "2d626765-1637-4aac-a6ec-2f473396ab4a"
      },
      "execution_count": 2,
      "outputs": [
        {
          "output_type": "stream",
          "name": "stdout",
          "text": [
            "Hello AR\n",
            "\n",
            "\n",
            "Hello, AR!\n"
          ]
        }
      ]
    },
    {
      "cell_type": "markdown",
      "source": [
        "#### Explanation:\n",
        "\n",
        "- A **closure** is a function object that has access to variables from its enclosing lexical scope, even when the function is called outside that scope. In the code, `printer` is a closure that has access to the `greeting` and `message` variables from its enclosing scope, which is the `print_msg` function.\n",
        "- **Function Inside Function**: The `print_msg` function takes a `message` as an argument and defines a local variable `greeting`. It also defines a nested function `printer` that prints `greeting` and `message`. The `printer` function is then called inside `print_msg`. When `print_msg(\"AR\")` is called, it prints `“Hello AR”`.\n",
        "- **Function Returning Another Function**: The `print_msg` function is redefined to return the `printer` function instead of calling it. When `print_msg(\"AR!\")` is called, it returns a function that, when called, prints `“Hello, AR!”`. This function is stored in `func`, and then `func()` is called to print the message.\n"
      ],
      "metadata": {
        "id": "lXvmj5zfkq9R"
      }
    },
    {
      "cell_type": "markdown",
      "source": [
        "### Example 3: Decorator Without '@'\n"
      ],
      "metadata": {
        "id": "_BMI85tbnvC5"
      }
    },
    {
      "cell_type": "code",
      "source": [
        "# Decorator without '@'\n",
        "def printer():\n",
        "    print(\"Hello World\")\n",
        "\n",
        "def display_info(func):\n",
        "    def inner():\n",
        "        print(\"Executing\", func.__name__, \"function\")\n",
        "        func()\n",
        "        print(\"Finished execution\")\n",
        "\n",
        "    return inner\n",
        "\n",
        "decorated_func = display_info(printer)\n",
        "decorated_func()"
      ],
      "metadata": {
        "colab": {
          "base_uri": "https://localhost:8080/"
        },
        "id": "oUEP231hn-C3",
        "outputId": "a11191fa-760a-4bc8-cf82-ccf4604b4b35"
      },
      "execution_count": 3,
      "outputs": [
        {
          "output_type": "stream",
          "name": "stdout",
          "text": [
            "Executing printer function\n",
            "Hello World\n",
            "Finished execution\n"
          ]
        }
      ]
    },
    {
      "cell_type": "markdown",
      "source": [
        "#### Explanation\n",
        "\n",
        "- **Function Definition**: Created a function named `printer` that prints `“Hello World”`.\n",
        "- **Decorator Function**: Created a decorator function named `display_info` that takes a function `func` as an argument. It defines a nested function `inner` that prints a message before and after executing `func`.\n",
        "- **Applying Decorator**: The `display_info` decorator is applied to the `printer` function. The decorated function is stored in `decorated_func`.\n",
        "- **Calling Decorated Function**: The decorated function is called. It prints `“Executing printer function”`, then `“Hello World”`, and finally `“Finished execution”`. This demonstrates how decorators can add behavior to a function without modifying its code.\n"
      ],
      "metadata": {
        "id": "u7LLsoPFnE_e"
      }
    },
    {
      "cell_type": "markdown",
      "source": [
        "### Example 4: Decorator With '@'\n"
      ],
      "metadata": {
        "id": "fHRSVlIzoHl1"
      }
    },
    {
      "cell_type": "code",
      "source": [
        "# Decorator with '@'\n",
        "def display_info(func):\n",
        "    def inner():\n",
        "        print(\"Executing\", func.__name__, \"function\")\n",
        "        func()\n",
        "        print(\"Finished execution\")\n",
        "\n",
        "    return inner\n",
        "\n",
        "@display_info\n",
        "def printer():\n",
        "    print(\"Hello World\")\n",
        "\n",
        "printer()"
      ],
      "metadata": {
        "colab": {
          "base_uri": "https://localhost:8080/"
        },
        "id": "1556ZSTmoNoS",
        "outputId": "a8ec26e6-4e4f-4d64-a25a-60e192232328"
      },
      "execution_count": 4,
      "outputs": [
        {
          "output_type": "stream",
          "name": "stdout",
          "text": [
            "Executing printer function\n",
            "Hello World\n",
            "Finished execution\n"
          ]
        }
      ]
    },
    {
      "cell_type": "markdown",
      "source": [
        "#### Explanation\n",
        "\n",
        "- **Decorator Function**: Created a decorator function named `display_info` that takes a function `func` as an argument. It defines a nested function `inner` that prints a message before and after executing `func`.\n",
        "- **Applying Decorator with ‘@’**: The `@display_info` decorator is applied to the `printer` function using the ‘@’ syntax. This is equivalent to `printer = display_info(printer)`.\n",
        "- **Function Definition**: Created a function named `printer` that prints `“Hello World”`.\n",
        "- **Calling Decorated Function**: The decorated function `printer()` is called. It prints `“Executing printer function”`, then `“Hello World”`, and finally `“Finished execution”`. This demonstrates how decorators can add behavior to a function without modifying its code.\n"
      ],
      "metadata": {
        "id": "6FaTrwkUoSmf"
      }
    },
    {
      "cell_type": "markdown",
      "source": [
        "### Example 5: Decorating Functions With Parameters\n"
      ],
      "metadata": {
        "id": "5bODMKGLoRrB"
      }
    },
    {
      "cell_type": "code",
      "source": [
        "# Decorating functions with parameters\n",
        "def smart_divide(func):\n",
        "    def inner(a, b):\n",
        "        print(\"Dividing\", a, \"by\", b)\n",
        "        if b == 0:\n",
        "            print(\"Cannot divide by 0!\")\n",
        "            return\n",
        "        return func(a, b)\n",
        "    return inner\n",
        "\n",
        "@smart_divide\n",
        "def divide(a, b):\n",
        "    return a / b\n",
        "\n",
        "value1 = divide(15, 3)\n",
        "print(value1)\n",
        "print(\"\\n\")\n",
        "value2 = divide(10, 0)\n",
        "print(value2)"
      ],
      "metadata": {
        "colab": {
          "base_uri": "https://localhost:8080/"
        },
        "id": "3fSprajRobu6",
        "outputId": "d510a464-1995-410e-99ca-967189a53b21"
      },
      "execution_count": 5,
      "outputs": [
        {
          "output_type": "stream",
          "name": "stdout",
          "text": [
            "Dividing 15 by 3\n",
            "5.0\n",
            "\n",
            "\n",
            "Dividing 10 by 0\n",
            "Cannot divide by 0!\n",
            "None\n"
          ]
        }
      ]
    },
    {
      "cell_type": "markdown",
      "source": [
        "#### Explanation\n",
        "\n",
        "- **Function Definition**: `smart_divide(func)` is a function that takes another function `func` as an argument.\n",
        "- **Inner Function**: Inside `smart_divide`, there’s another function `inner(a, b)` which takes two arguments `a` and `b`.\n",
        "- **Division Check**: `inner` checks if `b` is zero before calling `func`. If `b` is zero, it prints a message and returns `None`.\n",
        "- **Function Return**: `smart_divide` returns the `inner` function.\n",
        "- **Decorator Usage**: The `@smart_divide` before `divide(a, b)` is a decorator. It means `divide` is passed to `smart_divide` and `divide` is replaced with the function returned by `smart_divide`.\n",
        "- **Function Call**: `value1 = divide(15, 3)` is calling the `divide` function, which is now the `inner` function inside `smart_divide`.\n",
        "- **Print Results**: The results of the division operations are printed. If division by zero is attempted, a warning message is printed instead of a result.\n"
      ],
      "metadata": {
        "id": "eLIdNVa9phDk"
      }
    },
    {
      "cell_type": "markdown",
      "source": [
        "### Example 6: Chaining Decorators\n"
      ],
      "metadata": {
        "id": "zpva-XhdomBA"
      }
    },
    {
      "cell_type": "code",
      "source": [
        "# Chaining decorators\n",
        "def star(func):\n",
        "    def inner(arg):\n",
        "        print(\"*\" * 30)\n",
        "        func(arg)\n",
        "        print(\"*\" * 30)\n",
        "    return inner\n",
        "\n",
        "def percent(func):\n",
        "    def inner(arg):\n",
        "        print(\"%\" * 30)\n",
        "        func(arg)\n",
        "        print(\"%\" * 30)\n",
        "    return inner\n",
        "\n",
        "@star\n",
        "@percent\n",
        "def printer(msg):\n",
        "    print(msg)\n",
        "\n",
        "printer(\"Aviation is Love\")"
      ],
      "metadata": {
        "colab": {
          "base_uri": "https://localhost:8080/"
        },
        "id": "DSpawvz3opmn",
        "outputId": "5a35e0fd-ab31-4fe2-b20c-c8699a340506"
      },
      "execution_count": 6,
      "outputs": [
        {
          "output_type": "stream",
          "name": "stdout",
          "text": [
            "******************************\n",
            "%%%%%%%%%%%%%%%%%%%%%%%%%%%%%%\n",
            "Aviation is Love\n",
            "%%%%%%%%%%%%%%%%%%%%%%%%%%%%%%\n",
            "******************************\n"
          ]
        }
      ]
    },
    {
      "cell_type": "markdown",
      "source": [
        "#### Explanation\n",
        "\n",
        "- **Function Definitions**: `star(func)` and `percent(func)` are two functions that take another function `func` as an argument.\n",
        "- **Inner Functions**: Inside both `star` and `percent`, there’s another function `inner(arg)` which takes one argument `arg`.\n",
        "- **Print Decorations**: `inner` in `star` prints 30 asterisks before and after calling `func`. Similarly, `inner` in `percent` prints 30 percent signs before and after calling `func`.\n",
        "- **Function Returns**: Both `star` and `percent` return their respective `inner` functions.\n",
        "- **Decorator Usage**: The `@star` and `@percent` before `printer(msg)` are decorators. They mean `printer` is passed first to `percent` and then the result is passed to `star`. So, `printer` is replaced with the function returned by `star`.\n",
        "- **Function Call**: `printer(\"Aviation is Love\")` is calling the `printer` function, which is now the `inner` function inside `star`, which in turn calls the `inner` function inside `percent`.\n",
        "- **Print Results**: The message `“Aviation is Love”` is printed, surrounded by lines of percent signs and asterisks.\n"
      ],
      "metadata": {
        "id": "fGo86lDQqvDU"
      }
    },
    {
      "cell_type": "markdown",
      "source": [
        "### Example 7: Nested Decorators\n"
      ],
      "metadata": {
        "id": "5j__qTUpNjm7"
      }
    },
    {
      "cell_type": "code",
      "source": [
        "import functools\n",
        "\n",
        "def bold_decorator(func):\n",
        "    @functools.wraps(func)\n",
        "    def wrapper(*args, **kwargs):\n",
        "        return f\"<b>{func(*args, **kwargs)}</b>\"\n",
        "    return wrapper\n",
        "\n",
        "def italic_decorator(func):\n",
        "    @functools.wraps(func)\n",
        "    def wrapper(*args, **kwargs):\n",
        "        return f\"<i>{func(*args, **kwargs)}</i>\"\n",
        "    return wrapper\n",
        "\n",
        "@bold_decorator\n",
        "@italic_decorator\n",
        "def format_text(text):\n",
        "    return text\n",
        "\n",
        "print(format_text(\"Hello, World!\"))"
      ],
      "metadata": {
        "colab": {
          "base_uri": "https://localhost:8080/"
        },
        "id": "kb-DJ-n2NoCC",
        "outputId": "d990acf4-1020-42c6-a5e0-d854ac97ffb2"
      },
      "execution_count": 7,
      "outputs": [
        {
          "output_type": "stream",
          "name": "stdout",
          "text": [
            "<b><i>Hello, World!</i></b>\n"
          ]
        }
      ]
    },
    {
      "cell_type": "markdown",
      "source": [
        "#### Explanation\n",
        "\n",
        "- **Import Statement**: `functools` is a Python module for higher-order functions and operations on callable objects. It’s used here for the `wraps` function.\n",
        "- **Decorator Definitions**: `bold_decorator(func)` and `italic_decorator(func)` are two functions that take another function `func` as an argument.\n",
        "- **Wrapper Functions**: Inside both `bold_decorator` and `italic_decorator`, there’s another function `wrapper(*args, **kwargs)` which takes any number of arguments and keyword arguments.\n",
        "- **HTML Formatting**: `wrapper` in `bold_decorator` wraps the output of `func` in HTML bold tags (`<b>` and `</b>`). Similarly, `wrapper` in `italic_decorator` wraps the output of `func` in HTML italic tags (`<i>` and `</i>`).\n",
        "- **Function Returns**: Both `bold_decorator` and `italic_decorator` return their respective `wrapper` functions.\n",
        "- **Decorator Usage**: The `@bold_decorator` and `@italic_decorator` before `format_text(text)` are decorators. They mean `format_text` is passed first to `italic_decorator` and then the result is passed to `bold_decorator`. So, `format_text` is replaced with the function returned by `bold_decorator`.\n",
        "- **Function Call**: `print(format_text(\"Hello, World!\"))` is calling the `format_text` function, which is now the `wrapper` function inside `bold_decorator`, which in turn calls the `wrapper` function inside `italic_decorator`.\n",
        "- **Print Results**: The message `“Hello, World!”` is printed, surrounded by HTML bold and italic tags.\n"
      ],
      "metadata": {
        "id": "p53wor4ZrjiA"
      }
    },
    {
      "cell_type": "markdown",
      "source": [
        "## Summary\n",
        "\n",
        "Decorators provide a flexible and powerful way to extend or modify the behavior of functions and methods in Python. By using the `@decorator` syntax, you can easily apply additional functionality to your existing code, making it more modular and reusable.\n"
      ],
      "metadata": {
        "id": "3z5tvUlPt0n6"
      }
    }
  ]
}