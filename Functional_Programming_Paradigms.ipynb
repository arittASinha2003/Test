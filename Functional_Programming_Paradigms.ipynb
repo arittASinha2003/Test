{
  "nbformat": 4,
  "nbformat_minor": 0,
  "metadata": {
    "colab": {
      "provenance": []
    },
    "kernelspec": {
      "name": "python3",
      "display_name": "Python 3"
    },
    "language_info": {
      "name": "python"
    }
  },
  "cells": [
    {
      "cell_type": "markdown",
      "source": [
        "# Functional Programming Paradigms in Python\n",
        "\n",
        "## Introduction\n",
        "\n",
        "Functional programming is a programming paradigm where programs are constructed by applying and composing functions. It emphasizes the use of pure functions, higher-order functions, and immutability. In Python, functional programming features are supported through first-class functions, lambda functions, map, filter, and reduce, among others.\n",
        "\n",
        "## Key Concepts\n",
        "\n",
        "- **Pure Functions**: Functions that have no side effects and return the same result for the same arguments.\n",
        "- **Recursion**: There are no “for” or “while” loop in functional languages. Iteration in functional languages is implemented through recursion.\n",
        "- **Higher-Order Functions**: Functions that can take other functions as arguments or return them as results.\n",
        "- **Immutability**: Data cannot be modified after it is created. We can create new variables, but we can’t modify existing variables.\n"
      ],
      "metadata": {
        "id": "71ZmvY7ypbhV"
      }
    },
    {
      "cell_type": "markdown",
      "source": [
        "## Examples\n"
      ],
      "metadata": {
        "id": "rVgNJuS1p_2P"
      }
    },
    {
      "cell_type": "markdown",
      "source": [
        "### Example 1: Pure Functions\n"
      ],
      "metadata": {
        "id": "WxIbTN0_qB6I"
      }
    },
    {
      "cell_type": "code",
      "source": [
        "def pure_func(List):\n",
        "  New_List = []\n",
        "  for i in List:\n",
        "    New_List.append(i**2)\n",
        "  return New_List\n",
        "\n",
        "# Driver's code\n",
        "Original_List = [10, 20, 30, 40]\n",
        "Modified_List = pure_func(Original_List)\n",
        "\n",
        "print(\"Original List:\", Original_List)\n",
        "print(\"Modified List:\", Modified_List)\n",
        "\n",
        "print(\"\\n\")\n",
        "########################################\n",
        "\n",
        "def pure_add(x, y):\n",
        "  return x + y\n",
        "\n",
        "print(pure_add(3, 7))"
      ],
      "metadata": {
        "colab": {
          "base_uri": "https://localhost:8080/"
        },
        "id": "i7O1HFLQi4Mx",
        "outputId": "d780dfd0-c182-4d82-acdd-0ebff1000fc3"
      },
      "execution_count": 5,
      "outputs": [
        {
          "output_type": "stream",
          "name": "stdout",
          "text": [
            "Original List: [10, 20, 30, 40]\n",
            "Modified List: [100, 400, 900, 1600]\n",
            "\n",
            "\n",
            "10\n"
          ]
        }
      ]
    },
    {
      "cell_type": "markdown",
      "source": [
        "#### Explanation\n",
        "\n",
        "- **Pure Function**: The `pure_func` function is defined which takes a list as an argument. It creates a new list, `New_List`, and for each element in the input list, it squares the element and appends it to `New_List`. The function then returns `New_List`.\n",
        "- **Driver’s Code**: An original list, `Original_List`, is defined. The `pure_func` function is called with `Original_List` as the argument, and the result is stored in `Modified_List`.\n",
        "- **Print Statements**: The original and modified lists are printed to the console.\n",
        "- **Pure Addition Function**: The `pure_add` function is defined which takes two arguments, `x` and `y`, and returns their sum.\n",
        "- **Function Call**: The `pure_add` function is called with the arguments 3 and 7, and the result is printed to the console.\n"
      ],
      "metadata": {
        "id": "dMzxm4rgytdk"
      }
    },
    {
      "cell_type": "markdown",
      "source": [
        "### Example 2: Recursion\n"
      ],
      "metadata": {
        "id": "QEbtCQjNkqG6"
      }
    },
    {
      "cell_type": "code",
      "source": [
        "# Recursive Function to find sum of a list\n",
        "def Sum(L, i, n, count):\n",
        "  if n <= i:\n",
        "    return count\n",
        "  count += L[i]\n",
        "\n",
        "\t# Going into the recursion\n",
        "  count = Sum(L, i + 1, n, count)\n",
        "  return count\n",
        "\n",
        "L = [1, 2, 3, 4, 5]\n",
        "count = 0\n",
        "n = len(L)\n",
        "print(Sum(L, 0, n, count))"
      ],
      "metadata": {
        "colab": {
          "base_uri": "https://localhost:8080/"
        },
        "id": "Qa6wI5I1ktJe",
        "outputId": "296bdb65-745b-4760-9e8a-71aa4c501449"
      },
      "execution_count": 6,
      "outputs": [
        {
          "output_type": "stream",
          "name": "stdout",
          "text": [
            "15\n"
          ]
        }
      ]
    },
    {
      "cell_type": "markdown",
      "source": [
        "#### Explanation\n",
        "\n",
        "- **Function Definition**: The function `Sum(L, i, n, count)` is defined, where `L` is the list, `i` is the current index, `n` is the length of the list, and `count` is the running total of the sum.\n",
        "- **Base Case**: If `n <= i`, the function returns `count`. This is the base case of the recursion, which stops when we’ve gone through all elements in the list.\n",
        "- **Adding to Count**: If `n > i`, the function adds the `i`-th element of `L` to `count`.\n",
        "- **Recursion**: The function then calls itself with the updated `count` and `i + 1` (the next index), storing the result back into `count`.\n",
        "- **Return Value**: The function finally returns `count`, which now includes the sum of all elements from index `0` to `i`.\n",
        "- **Function Call**: The function is called with `L = [1, 2, 3, 4, 5]`, `i = 0` (starting index), `n = len(L)` (length of the list), and `count = 0` (initial sum). The result is printed, which is the sum of all elements in the list.\n"
      ],
      "metadata": {
        "id": "l9gvKyRLzlNU"
      }
    },
    {
      "cell_type": "markdown",
      "source": [
        "### Example 3: Higher Order Function\n"
      ],
      "metadata": {
        "id": "LmdjYW1guGkd"
      }
    },
    {
      "cell_type": "code",
      "source": [
        "def shout(text):\n",
        "  return text.upper()\n",
        "\n",
        "def whisper(text):\n",
        "  return text.lower()\n",
        "\n",
        "def greet(func):\n",
        "  greeting = func(\"Hi, I am AR.\")\n",
        "  print(greeting)\n",
        "\n",
        "greet(shout)\n",
        "greet(whisper)"
      ],
      "metadata": {
        "colab": {
          "base_uri": "https://localhost:8080/"
        },
        "id": "YbkmkOk_uNeE",
        "outputId": "01365804-a537-4646-e72c-539f72122f9e"
      },
      "execution_count": 7,
      "outputs": [
        {
          "output_type": "stream",
          "name": "stdout",
          "text": [
            "HI, I AM AR.\n",
            "hi, i am ar.\n"
          ]
        }
      ]
    },
    {
      "cell_type": "markdown",
      "source": [
        "### Example 4: Lambda Functions\n"
      ],
      "metadata": {
        "id": "DfObXI_avF6e"
      }
    },
    {
      "cell_type": "code",
      "source": [
        "cube = lambda x: x * x * x\n",
        "print(cube(7))\n",
        "\n",
        "######################################\n",
        "\n",
        "L = [1, 2, 3, 4, 5, 6]\n",
        "is_even = [x for x in L if x % 2 == 0]\n",
        "print(is_even)"
      ],
      "metadata": {
        "colab": {
          "base_uri": "https://localhost:8080/"
        },
        "id": "q_aJtymgvJzq",
        "outputId": "8bb5e560-1e38-4ffd-85c5-c7f3b4018b57"
      },
      "execution_count": 8,
      "outputs": [
        {
          "output_type": "stream",
          "name": "stdout",
          "text": [
            "343\n",
            "[2, 4, 6]\n"
          ]
        }
      ]
    },
    {
      "cell_type": "markdown",
      "source": [
        "#### Explanation\n",
        "\n",
        "- **Lambda functions**, also known as anonymous functions, are small, restricted functions which do not need a name (i.e., an identifier).\n",
        "- Lambda functions can’t use regular Python statements and always include an implicit `return` statement.\n",
        "- They are syntactically limited to a single expression.\n",
        "- **Lambda Function**: `cube = lambda x: x * x * x` is a lambda function that calculates the cube of a number. It takes one argument `x` and returns the result of `x * x * x`.\n",
        "- **List Comprehension**: `is_even = [x for x in L if x % 2 == 0]` is a list comprehension that creates a new list `is_even` containing only the even numbers from the list `L`.\n"
      ],
      "metadata": {
        "id": "8ItrHljowH4U"
      }
    },
    {
      "cell_type": "markdown",
      "source": [
        "### Example 5: Map Functions\n"
      ],
      "metadata": {
        "id": "LvaZxabFxYa9"
      }
    },
    {
      "cell_type": "code",
      "source": [
        "numbers = [1, 2, 3, 4, 5]\n",
        "squared_numbers = list(map(lambda x: x * x, numbers))\n",
        "print(squared_numbers)"
      ],
      "metadata": {
        "colab": {
          "base_uri": "https://localhost:8080/"
        },
        "id": "KwbVLfcjxby6",
        "outputId": "a14b99d0-1498-4195-e1cf-57c805de2a7d"
      },
      "execution_count": 9,
      "outputs": [
        {
          "output_type": "stream",
          "name": "stdout",
          "text": [
            "[1, 4, 9, 16, 25]\n"
          ]
        }
      ]
    },
    {
      "cell_type": "markdown",
      "source": [
        "#### Explanation\n",
        "\n",
        "- `map()` function returns a list of the results after applying the given function to each item of a given iterable (list, tuple etc.)\n",
        "- In the code, we are using map to apply a function to each element in a list.\n",
        "- **Lambda Function with map()**: It uses the `map()` function with a `lambda` function that squares a number. It applies this `lambda` function to each element in the `numbers` list and returns a new list `squared_numbers` with the squared values.\n"
      ],
      "metadata": {
        "id": "3aXrxDx3xh_x"
      }
    },
    {
      "cell_type": "markdown",
      "source": [
        "### Example 6: Filter Functions\n"
      ],
      "metadata": {
        "id": "A0qIRMfeyCjm"
      }
    },
    {
      "cell_type": "code",
      "source": [
        "def fun(variable):\n",
        "  letters = ['a', 'e', 'i', 'o', 'u']\n",
        "  if (variable in letters):\n",
        "    return True\n",
        "  else:\n",
        "    return False\n",
        "\n",
        "sequence = ['g', 'e', 'e', 'j', 'k', 's', 'p', 'r']\n",
        "\n",
        "filtered = filter(fun, sequence)\n",
        "print('The filtered letters are:')\n",
        "for s in filtered:\n",
        "  print(s)"
      ],
      "metadata": {
        "colab": {
          "base_uri": "https://localhost:8080/"
        },
        "id": "oYKxwzHJyFXQ",
        "outputId": "e85c60ba-503b-4c8a-931f-9d10cfde8288"
      },
      "execution_count": 10,
      "outputs": [
        {
          "output_type": "stream",
          "name": "stdout",
          "text": [
            "The filtered letters are:\n",
            "e\n",
            "e\n"
          ]
        }
      ]
    },
    {
      "cell_type": "markdown",
      "source": [
        "#### Explanation\n",
        "\n",
        "- The `filter()` method filters the given sequence with the help of a function that tests each element in the sequence to be true or not.\n",
        "- In the code, we are using filter to filter vowels from a list.\n",
        "- **Filter Function**: `filtered = filter(fun, sequence)` uses the `filter()` function with the `fun` function and the `sequence` list. It applies `fun` to each element in `sequence` and returns a new iterator `filtered` with the elements for which `fun` returned `True`.\n"
      ],
      "metadata": {
        "id": "i42QShnJyyKE"
      }
    },
    {
      "cell_type": "markdown",
      "source": [
        "### Example 7: Immutability\n"
      ],
      "metadata": {
        "id": "E1OUvqiJzgpf"
      }
    },
    {
      "cell_type": "code",
      "source": [
        "# Tuples are immutable\n",
        "point = (1, 2)\n",
        "# point[0] = 3  # Raises TypeError\n",
        "\n",
        "# Strings are immutable\n",
        "immutable = \"Aviation\"\n",
        "# immutable[0] = 'a' # Raises TypeError"
      ],
      "metadata": {
        "id": "1HEXXbgUzk8F"
      },
      "execution_count": 11,
      "outputs": []
    },
    {
      "cell_type": "markdown",
      "source": [
        "## Summary\n",
        "\n",
        "The functional programming paradigm in Python encourages writing clean and predictable code by using pure functions, higher-order functions, and immutability. Features like lambda functions, map, filter, and reduce enable a functional style of programming, making the code more modular and easier to test and maintain.\n"
      ],
      "metadata": {
        "id": "F8AmPRwOqOSF"
      }
    }
  ]
}