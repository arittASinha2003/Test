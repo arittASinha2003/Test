{
  "nbformat": 4,
  "nbformat_minor": 0,
  "metadata": {
    "colab": {
      "provenance": []
    },
    "kernelspec": {
      "name": "python3",
      "display_name": "Python 3"
    },
    "language_info": {
      "name": "python"
    }
  },
  "cells": [
    {
      "cell_type": "markdown",
      "source": [
        "# Generators in Python\n",
        "\n",
        "## Introduction\n",
        "\n",
        "Generators are a special class of iterators in Python that allow you to iterate over a sequence of values. Unlike regular functions, generators use the `yield` statement to return values one at a time, suspending their state between each value. This makes them memory-efficient, as they generate values on the fly without storing the entire sequence in memory.\n",
        "\n",
        "## Generator Functions\n",
        "\n",
        "A generator function is defined like a normal function but uses the `yield` statement to return values one at a time.\n",
        "\n",
        "## Use Cases\n",
        "\n",
        "- **Large Sequence Generation**: Generators are useful when we want to produce a large sequence of values, but we don't want to store all of them in memory at once.\n",
        "- **Simplicity and Efficiency**: Since the process of creating Iterators is both lengthy and counter-intuitive, we use Generators. Generators are simple way of implementing Iterators. All works are automatically handled by Generators.\n",
        "- **Implicit Methods**: In Generators, there is no need to explicitly define the `__iter__()` method, `__next__()` method, or `StopIteration` exception. They are handled implicitly by Generators, making our program simpler and easier to understand.\n",
        "- **Function Pausing**: In Iterators, the use of `return` statement terminates the function completely, but in Generators, the `yield` statement pauses the function, saving all its states for next successive calls. This makes Generators particularly useful for producing a sequence of results over time.\n"
      ],
      "metadata": {
        "id": "XvtDcfH1X1gp"
      }
    },
    {
      "cell_type": "markdown",
      "source": [
        "## Examples\n"
      ],
      "metadata": {
        "id": "E_IWVKHpaQ9f"
      }
    },
    {
      "cell_type": "markdown",
      "source": [
        "### Example 1: Simple Generator Using For Loop\n"
      ],
      "metadata": {
        "id": "G-zRX7a0aUDA"
      }
    },
    {
      "cell_type": "code",
      "source": [
        "# Creating a generator\n",
        "def PrintNum():\n",
        "  yield 10\n",
        "  yield 20\n",
        "  yield 30\n",
        "\n",
        "# Printing the elements using for loop\n",
        "for value in PrintNum():\n",
        "  print(value)"
      ],
      "metadata": {
        "colab": {
          "base_uri": "https://localhost:8080/"
        },
        "id": "bBVEnS1Mbest",
        "outputId": "bc34305b-bdb4-4685-e863-0d1488f79291"
      },
      "execution_count": 2,
      "outputs": [
        {
          "output_type": "stream",
          "name": "stdout",
          "text": [
            "10\n",
            "20\n",
            "30\n"
          ]
        }
      ]
    },
    {
      "cell_type": "markdown",
      "source": [
        "#### Explanation\n",
        "\n",
        "- **Generator Function Definition**: The function `PrintNum()` is defined. This function is a generator function, which is a special type of function that returns an iterator.\n",
        "- **Yield Statements**: Inside the function, there are three `yield` statements. Each `yield` statement pauses the function and returns a value. The next time the function is called, it resumes from where it left off and yields the next value.\n",
        "- **Sequence Generation**: A `for` loop is used to iterate over the values yielded by the `PrintNum()` generator function. This prints the values 10, 20, and 30.\n"
      ],
      "metadata": {
        "id": "HS4sqyC7MLp0"
      }
    },
    {
      "cell_type": "markdown",
      "source": [
        "### Example 2: Simple Generator by Calling `next` Method\n"
      ],
      "metadata": {
        "id": "4epO6sosc2rc"
      }
    },
    {
      "cell_type": "code",
      "source": [
        "# Creating a generator\n",
        "def EvenNum():\n",
        "    n = 0\n",
        "\n",
        "    n += 2\n",
        "    yield n\n",
        "\n",
        "    n += 2\n",
        "    yield n\n",
        "\n",
        "    n += 2\n",
        "    yield n\n",
        "\n",
        "numbers = EvenNum()\n",
        "\n",
        "# Printing the elements using next()\n",
        "print(next(numbers))\n",
        "print(next(numbers))\n",
        "print(next(numbers))\n",
        "# print(next(numbers)) # Raises a StopIteration"
      ],
      "metadata": {
        "colab": {
          "base_uri": "https://localhost:8080/"
        },
        "id": "n1Mv8k_0dCU-",
        "outputId": "37030f09-3c6b-4b3f-b31e-5c064221ed33"
      },
      "execution_count": 3,
      "outputs": [
        {
          "output_type": "stream",
          "name": "stdout",
          "text": [
            "2\n",
            "4\n",
            "6\n"
          ]
        }
      ]
    },
    {
      "cell_type": "markdown",
      "source": [
        "### Example 3: Fibonacci Series Generator\n"
      ],
      "metadata": {
        "id": "6yL2l5s6eDHk"
      }
    },
    {
      "cell_type": "code",
      "source": [
        "# Creating a generator for infinite stream of data\n",
        "def generate_fibonacci():\n",
        "    n1 = 0\n",
        "    n2 = 1\n",
        "    while True:\n",
        "        yield n1\n",
        "        n1, n2 = n2, n1 + n2\n",
        "\n",
        "seq = generate_fibonacci()\n",
        "\n",
        "# Printing the series using next()\n",
        "print(next(seq))\n",
        "print(next(seq))\n",
        "print(next(seq))\n",
        "print(next(seq))\n",
        "print(next(seq))"
      ],
      "metadata": {
        "colab": {
          "base_uri": "https://localhost:8080/"
        },
        "id": "wiPdtO_ciybm",
        "outputId": "e9c4a2c7-0de8-4885-c7d5-25d73d05e3fe"
      },
      "execution_count": 4,
      "outputs": [
        {
          "output_type": "stream",
          "name": "stdout",
          "text": [
            "0\n",
            "1\n",
            "1\n",
            "2\n",
            "3\n"
          ]
        }
      ]
    },
    {
      "cell_type": "markdown",
      "source": [
        "#### Explanation\n",
        "\n",
        "- **Function Definition**: The function `generate_fibonacci()` is defined. This function is a generator function which generates an infinite sequence of Fibonacci numbers.\n",
        "- **Variable Initialization**: Inside the function, two variables `n1` and `n2` are initialized with values 0 and 1 respectively. These represent the first two numbers in the Fibonacci sequence.\n",
        "- **Infinite Loop**: An infinite `while` loop is started. This allows the function to keep generating numbers indefinitely.\n",
        "- **Yield Statement**: The `yield` keyword is used to produce a value `(n1)` from the generator function. This pauses the function and saves its state for the next call.\n",
        "- **Update Variables**: The variables `n1` and `n2` are updated. `n1` is set to the value of `n2`, and `n2` is set to the sum of `n1` and `n2`. This generates the next number in the Fibonacci sequence.\n",
        "- **Generator Object**: Outside the function, `seq` is created as an instance of the generator function `generate_fibonacci()`. This object can be used to generate the Fibonacci sequence.\n",
        "- **Print Statements**: The `next()` function is used with `seq` to get the next number in the Fibonacci sequence. This is done five times, printing the first five numbers in the Fibonacci sequence.\n"
      ],
      "metadata": {
        "id": "QN90zhwqd2G2"
      }
    },
    {
      "cell_type": "markdown",
      "source": [
        "### Example 4: Fibonacci Series Generator with Count Variable\n"
      ],
      "metadata": {
        "id": "wViKD_YPkdzz"
      }
    },
    {
      "cell_type": "code",
      "source": [
        "# Creating a generator for finite stream of data up to a specified count\n",
        "def generate_fibonacci(count):\n",
        "    n1 = 0\n",
        "    n2 = 1\n",
        "    for i in range(count):\n",
        "        yield n1\n",
        "        n1, n2 = n2, n1 + n2\n",
        "\n",
        "count = 5  # Number of elements of the series\n",
        "seq = generate_fibonacci(count)\n",
        "\n",
        "# Printing the elements using for loop\n",
        "for i in range(count):\n",
        "    print(next(seq))"
      ],
      "metadata": {
        "colab": {
          "base_uri": "https://localhost:8080/"
        },
        "id": "lI47SdaKkj2N",
        "outputId": "99b90121-ee7f-4aed-bfed-b6eed8c98e8f"
      },
      "execution_count": 5,
      "outputs": [
        {
          "output_type": "stream",
          "name": "stdout",
          "text": [
            "0\n",
            "1\n",
            "1\n",
            "2\n",
            "3\n"
          ]
        }
      ]
    },
    {
      "cell_type": "markdown",
      "source": [
        "#### Explanation\n",
        "\n",
        "- **Finite Loop**: A `for` loop is started with the range set to `count`. This allows the function to generate a specified number of Fibonacci numbers.\n",
        "- **Count Variable**: Outside the function, `count` is set to 5. This specifies the number of elements in the Fibonacci sequence to be generated.\n",
        "- **Print Statements**: A `for` loop is used with `next(seq)` to get the next number in the Fibonacci sequence and print it. This is done `count` times, printing the first `count` numbers in the Fibonacci sequence.\n"
      ],
      "metadata": {
        "id": "8CkfTdcRfTWH"
      }
    },
    {
      "cell_type": "markdown",
      "source": [
        "### Example 5: Even Number Generator\n"
      ],
      "metadata": {
        "id": "LpdtB76KsUeq"
      }
    },
    {
      "cell_type": "code",
      "source": [
        "# Program to print even numbers till given number using Generators\n",
        "def Even(max):\n",
        "    n = 2\n",
        "    while n <= max:\n",
        "        yield n\n",
        "        n += 2\n",
        "\n",
        "max = 10\n",
        "# numbers = Even(max)\n",
        "# print(next(numbers))\n",
        "# print(next(numbers))\n",
        "# print(next(numbers))\n",
        "# print(next(numbers))\n",
        "# print(next(numbers))\n",
        "# print(next(numbers))  # Raises a StopIteration\n",
        "for value in Even(max):\n",
        "    print(value)\n",
        "\n",
        "# Same function using Iterator:\n",
        "\n",
        "# class Even:\n",
        "#   def __init__(self, max):\n",
        "#     self.n = 2\n",
        "#     self.max = max\n",
        "\n",
        "#   def __iter__(self):\n",
        "#     return self\n",
        "\n",
        "#   def __next__(self):\n",
        "#     if self.n <= self.max:\n",
        "#       result = self.n\n",
        "#       self.n += 2\n",
        "#       return result\n",
        "#     else:\n",
        "#       raise StopIteration"
      ],
      "metadata": {
        "colab": {
          "base_uri": "https://localhost:8080/"
        },
        "id": "O8ECLSX8sbQ3",
        "outputId": "e343237a-8541-405e-8ffe-b1348421f13a"
      },
      "execution_count": 6,
      "outputs": [
        {
          "output_type": "stream",
          "name": "stdout",
          "text": [
            "2\n",
            "4\n",
            "6\n",
            "8\n",
            "10\n"
          ]
        }
      ]
    },
    {
      "cell_type": "markdown",
      "source": [
        "#### Explanation\n",
        "\n",
        "- **Function Definition**: The function `Even(max)` is defined to generate even numbers up to a given maximum value.\n",
        "- **Generator**: The `yield` keyword is used to create a generator that produces even numbers starting from 2.\n",
        "- **While Loop**: A `while` loop is used to generate numbers as long as they are less than or equal to the maximum value.\n",
        "- **Iteration**: The `for` loop iterates over the generator, printing each generated even number.\n",
        "- **StopIteration**: When the generator exhausts all even numbers up to the maximum, it raises a `StopIteration` exception.\n"
      ],
      "metadata": {
        "id": "SILBTqxQgoA5"
      }
    },
    {
      "cell_type": "markdown",
      "source": [
        "### Example 6: Power of Two Generator (2^x)\n"
      ],
      "metadata": {
        "id": "d0KQO5yeuC_f"
      }
    },
    {
      "cell_type": "code",
      "source": [
        "# Program to print power of 2 till given power using Generators\n",
        "def PowTwo(max):\n",
        "    n = 0\n",
        "    while n <= max:\n",
        "        yield 2 ** n\n",
        "        n += 1\n",
        "\n",
        "power = 5\n",
        "# numbers = PowTwo(power)\n",
        "# values = iter(numbers)\n",
        "\n",
        "# print(next(values))\n",
        "# print(next(values))\n",
        "# print(next(values))\n",
        "# print(next(values))\n",
        "# print(next(values))\n",
        "# print(next(values))\n",
        "# print(next(values)) # Raises a StopIteration\n",
        "for i in PowTwo(power):\n",
        "    print(i)\n",
        "\n",
        "# Same function using Iterator:\n",
        "\n",
        "# class PowTwo:\n",
        "#   def __init__(self, max = 0):\n",
        "#     self.max = max\n",
        "\n",
        "#   def __iter__(self):\n",
        "#     self.n = 0\n",
        "#     return self\n",
        "\n",
        "#   def __next__(self):\n",
        "#     if self.n <= self.max:\n",
        "#       result = 2 ** self.n\n",
        "#       self.n += 1\n",
        "#       return result\n",
        "#     else:\n",
        "#       raise StopIteration"
      ],
      "metadata": {
        "colab": {
          "base_uri": "https://localhost:8080/"
        },
        "id": "Y8_0n1myuMCI",
        "outputId": "54018001-6ca4-44c3-e4ff-bf5ac4efa1df"
      },
      "execution_count": 7,
      "outputs": [
        {
          "output_type": "stream",
          "name": "stdout",
          "text": [
            "1\n",
            "2\n",
            "4\n",
            "8\n",
            "16\n",
            "32\n"
          ]
        }
      ]
    },
    {
      "cell_type": "markdown",
      "source": [
        "### Example 7: Generator Expressions\n"
      ],
      "metadata": {
        "id": "os9Ke3i9xs94"
      }
    },
    {
      "cell_type": "code",
      "source": [
        "# Generator expression to print the multiples of 5 between the range of 0 to 5 which are also divisible by 2.\n",
        "generator_exp = (i * 5 for i in range(5) if i%2==0)\n",
        "\n",
        "for i in generator_exp:\n",
        "\tprint(i)"
      ],
      "metadata": {
        "colab": {
          "base_uri": "https://localhost:8080/"
        },
        "id": "CjbZfZsrxxDf",
        "outputId": "3b14f108-9a81-4eb2-df98-4835f676485e"
      },
      "execution_count": 8,
      "outputs": [
        {
          "output_type": "stream",
          "name": "stdout",
          "text": [
            "0\n",
            "10\n",
            "20\n"
          ]
        }
      ]
    },
    {
      "cell_type": "markdown",
      "source": [
        "#### Explanation\n",
        "\n",
        "- **Generator Expression**: `generator_exp = (i * 5 for i in range(5) if i%2==0)` is a generator expression that generates multiples of 5 for numbers in the range 0 to 4 (as `range(5)` generates numbers from 0 to 4) which are also divisible by 2.\n",
        "- **Condition**: The `if i%2==0` condition checks if the number is divisible by 2 (i.e., it’s an even number).\n",
        "- **Iteration**: The `for` loop iterates over the generator expression, printing each generated multiple of 5 that is also an even number.\n"
      ],
      "metadata": {
        "id": "PeYbHKx_hwY_"
      }
    },
    {
      "cell_type": "markdown",
      "source": [
        "### Example 8: Pipelining Generators\n"
      ],
      "metadata": {
        "id": "BAUdJvbQ2Kx9"
      }
    },
    {
      "cell_type": "code",
      "source": [
        "# Program to find out the sum of squares of numbers in the Fibonacci series\n",
        "\n",
        "def fibonacci_numbers(nums):\n",
        "    x, y = 0, 1\n",
        "    for i in range(nums):\n",
        "        yield x\n",
        "        x, y = y, x + y\n",
        "\n",
        "def square(nums):\n",
        "    for num in nums:\n",
        "        yield num ** 2\n",
        "\n",
        "print(sum(square(fibonacci_numbers(10))))\n",
        "# fibonacci_numbers(10) = [0, 1, 1, 2, 3, 5, 8, 13, 21, 34]\n",
        "# square(fibonacci_numbers(10)) = [0, 1, 1, 4, 9, 25, 64, 169, 441, 1156]\n",
        "# sum(square(fibonacci_numbers(10))) = [0 + 1 + 1 + 4 + 9 + 25 + 64 + 169 + 441 + 1156] = 1870"
      ],
      "metadata": {
        "colab": {
          "base_uri": "https://localhost:8080/"
        },
        "id": "28XYrEus2SKj",
        "outputId": "8188b361-0aa5-4b55-8adf-23021dd25389"
      },
      "execution_count": 9,
      "outputs": [
        {
          "output_type": "stream",
          "name": "stdout",
          "text": [
            "1870\n"
          ]
        }
      ]
    },
    {
      "cell_type": "markdown",
      "source": [
        "#### Explanation\n",
        "\n",
        "- **Fibonacci Generator**: The function `fibonacci_numbers(nums)` generates the first `nums` numbers in the Fibonacci series. It starts with `x = 0` and `y = 1`, and for each number in the range, it yields `x` and then updates `x` and `y` to `y` and `x + y` respectively.\n",
        "- **Square Generator**: The function `square(nums)` takes an iterable `nums` and yields the square of each number.\n",
        "- **Sum of Squares**: The expression `sum(square(fibonacci_numbers(10)))` computes the sum of the squares of the first 10 Fibonacci numbers. The `square` function squares each Fibonacci number, and the `sum` function adds them up.\n"
      ],
      "metadata": {
        "id": "kY9kcItcjI0w"
      }
    },
    {
      "cell_type": "markdown",
      "source": [
        "### Example 9: Generator for Reading Large Files\n"
      ],
      "metadata": {
        "id": "RQEjRA0C3qn0"
      }
    },
    {
      "cell_type": "code",
      "source": [
        "def read_large_file(file_path):\n",
        "    with open(file_path, 'r') as file:\n",
        "        while True:\n",
        "            line = file.readline()\n",
        "            if not line:\n",
        "                break\n",
        "            yield line\n",
        "\n",
        "# Example usage (assuming 'large_file.txt' exists):\n",
        "# for line in read_large_file('large_file.txt'):\n",
        "#     print(line)"
      ],
      "metadata": {
        "id": "nOu7Yft24OFq"
      },
      "execution_count": 10,
      "outputs": []
    },
    {
      "cell_type": "markdown",
      "source": [
        "#### Explanation\n",
        "\n",
        "- **File Reader Generator**: The function `read_large_file(file_path)` opens a file at `file_path` and yields each line one by one. This is useful for reading large files that may not fit into memory.\n",
        "- **Reading Lines**: The `for` loop iterates over the generator, printing each line of the file. This reads the file line by line, using minimal memory.\n"
      ],
      "metadata": {
        "id": "8lZHyrQQj68J"
      }
    },
    {
      "cell_type": "markdown",
      "source": [
        "## Summary\n",
        "\n",
        "Generators provide an efficient way to iterate over sequences without loading the entire sequence into memory. By using the `yield` statement, you can generate values on the fly, making them suitable for handling large datasets and infinite sequences. Generators can also be used in expressions and with functions to create more readable and efficient code.\n"
      ],
      "metadata": {
        "id": "YgSMBM234hXi"
      }
    }
  ]
}