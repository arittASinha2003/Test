{
  "nbformat": 4,
  "nbformat_minor": 0,
  "metadata": {
    "colab": {
      "provenance": []
    },
    "kernelspec": {
      "name": "python3",
      "display_name": "Python 3"
    },
    "language_info": {
      "name": "python"
    }
  },
  "cells": [
    {
      "cell_type": "markdown",
      "source": [
        "# Context Managers in Python\n",
        "\n",
        "## Introduction\n",
        "\n",
        "Context managers in Python are used to manage resources efficiently. The most common example is the `with` statement that is used for opening and closing files. Context managers provide a way to allocate and release resources precisely when you want to. The `with` statement simplifies exception handling by encapsulating common preparation and cleanup tasks.\n",
        "\n",
        "## The `with` Statement\n",
        "\n",
        "The `with` statement is used to wrap the execution of a block of code with methods defined by a context manager.\n",
        "\n",
        "## Use Cases\n",
        "\n",
        "- **Resource Management**: Context managers handle the setup and teardown of resources automatically. For example, opening and closing files or database connections.\n",
        "- **Exception Handling**: Context managers can handle exceptions within the block and ensure that cleanup code is executed.\n",
        "- **Locking and Unlocking Resources**: In multi-threaded programming, context managers can manage locks and unlocks to resources, preventing race conditions.\n"
      ],
      "metadata": {
        "id": "Y4549soHOu0F"
      }
    },
    {
      "cell_type": "markdown",
      "source": [
        "## Examples\n"
      ],
      "metadata": {
        "id": "hPsIJuxDPoSS"
      }
    },
    {
      "cell_type": "markdown",
      "source": [
        "### Example 1: Simple Context Manager to Open and Close File\n"
      ],
      "metadata": {
        "id": "ARQ_jFg_Pqf5"
      }
    },
    {
      "cell_type": "code",
      "source": [
        "with open('sample.txt', 'w') as file:\n",
        "  file.write('Hello, world!')\n",
        "# No need to explicitly close the file\n",
        "print(file.closed)"
      ],
      "metadata": {
        "colab": {
          "base_uri": "https://localhost:8080/"
        },
        "id": "ecTMu3hjPwcJ",
        "outputId": "f42839df-2cdc-445f-aa93-effc698f2fa2"
      },
      "execution_count": 1,
      "outputs": [
        {
          "output_type": "stream",
          "name": "stdout",
          "text": [
            "True\n"
          ]
        }
      ]
    },
    {
      "cell_type": "markdown",
      "source": [
        "#### Explanation\n",
        "\n",
        "- **File Opening**: First, it opens a file named `‘sample.txt’` in write mode (`‘w’`). The opened file is referred to as `file` within the `with` block.\n",
        "- **File Writing**: `file.write` writes the string `‘Hello, world!’` to the file.\n",
        "- **Automatic Closure**: After the `with` block is exited, the file is automatically closed. There’s no need to call `file.close()`.\n",
        "- **Closure Check**: `print(file.closed)` prints whether the file is closed. If the file is closed, it prints `True`; otherwise, it prints `False`.\n"
      ],
      "metadata": {
        "id": "-it6CiueudM5"
      }
    },
    {
      "cell_type": "markdown",
      "source": [
        "### Example 2: Context Manager to Create New File\n"
      ],
      "metadata": {
        "id": "rzH3WnP6j717"
      }
    },
    {
      "cell_type": "code",
      "source": [
        "class CreateFile:\n",
        "    def __init__(self, filename):\n",
        "        self.filename = filename\n",
        "\n",
        "    def __enter__(self):\n",
        "        self.file = open(self.filename, 'w')\n",
        "        return self.file\n",
        "\n",
        "    def __exit__(self, exc_type, exc_val, exc_tb):\n",
        "        if self.file:\n",
        "            self.file.close()\n",
        "\n",
        "with CreateFile('sample.txt') as f:\n",
        "    f.write('Hello, world!')\n",
        "\n",
        "print(f.closed)"
      ],
      "metadata": {
        "colab": {
          "base_uri": "https://localhost:8080/"
        },
        "id": "PzDPEU-skNqp",
        "outputId": "310b6b33-ae03-4188-c005-0b30751a6f27"
      },
      "execution_count": 2,
      "outputs": [
        {
          "output_type": "stream",
          "name": "stdout",
          "text": [
            "True\n"
          ]
        }
      ]
    },
    {
      "cell_type": "markdown",
      "source": [
        "#### Explanation\n",
        "\n",
        "- **Class Definition**: The `CreateFile` class is defined with methods for creating and managing a file.\n",
        "- **Initialization**: The `__init__` method initializes the `filename` attribute.\n",
        "- **Enter Method**: The `__enter__` method opens the file in write mode and returns the file object.\n",
        "- **Exit Method**: The `__exit__` method is called when the `with` block is exited. It closes the file if it’s open.\n",
        "- **With Statement**: The `with` statement creates an instance of `CreateFile` and assigns the returned file object to `f`.\n",
        "- **Write to File**: The `write` method is called on `f` to write `‘Hello, world!’` to the file.\n",
        "- **Check File Status**: Finally, `print(f.closed)` checks if the file is closed and prints the result.\n"
      ],
      "metadata": {
        "id": "WPUgo9rGvp2z"
      }
    },
    {
      "cell_type": "markdown",
      "source": [
        "### Example 3: Context Manager Order\n"
      ],
      "metadata": {
        "id": "07bryVpVkwFy"
      }
    },
    {
      "cell_type": "code",
      "source": [
        "class ContextManager():\n",
        "\tdef __init__(self):\n",
        "\t\tprint('init method called')\n",
        "\n",
        "\tdef __enter__(self):\n",
        "\t\tprint('enter method called')\n",
        "\t\treturn self\n",
        "\n",
        "\tdef __exit__(self, exc_type, exc_value, exc_traceback):\n",
        "\t\tprint('exit method called')\n",
        "\n",
        "with ContextManager() as manager:\n",
        "\tprint('with statement block')"
      ],
      "metadata": {
        "colab": {
          "base_uri": "https://localhost:8080/"
        },
        "id": "7V5vNf6rlQNe",
        "outputId": "6011442c-a771-4b8d-850a-ed0b18ef0cd5"
      },
      "execution_count": 3,
      "outputs": [
        {
          "output_type": "stream",
          "name": "stdout",
          "text": [
            "init method called\n",
            "enter method called\n",
            "with statement block\n",
            "exit method called\n"
          ]
        }
      ]
    },
    {
      "cell_type": "markdown",
      "source": [
        "### Example 4: Nested Context Manager\n"
      ],
      "metadata": {
        "id": "S2nvtfdGoBon"
      }
    },
    {
      "cell_type": "code",
      "source": [
        "from contextlib import contextmanager\n",
        "\n",
        "@contextmanager\n",
        "def make_context(name):\n",
        "    print(f\"Entering: {name}\")\n",
        "    yield name\n",
        "    print(f\"Exiting: {name}\")\n",
        "\n",
        "with make_context('A') as A, make_context('B') as B:\n",
        "    print(f\"Inside with: {A}, {B}\")"
      ],
      "metadata": {
        "colab": {
          "base_uri": "https://localhost:8080/"
        },
        "id": "jfP0ZquKoHKC",
        "outputId": "fbc40839-d0dd-425c-ec6b-1aef15a5df18"
      },
      "execution_count": 4,
      "outputs": [
        {
          "output_type": "stream",
          "name": "stdout",
          "text": [
            "Entering: A\n",
            "Entering: B\n",
            "Inside with: A, B\n",
            "Exiting: B\n",
            "Exiting: A\n"
          ]
        }
      ]
    },
    {
      "cell_type": "markdown",
      "source": [
        "#### Explanation\n",
        "\n",
        "- **Import Statement**: The `contextlib` module is imported, which provides utilities for common tasks involving the `with` statement.\n",
        "- **Context Manager Function**: The `make_context` function is defined with the `@contextmanager` decorator. This function is a generator-based context manager.\n",
        "- **Entering Print Statement**: The function prints `‘Entering: {name}’` where `{name}` is the argument passed to the function.\n",
        "- **Yield Statement**: The `yield` statement pauses the function, saves all its states, and later continues from there on successive calls. It yields the `name` argument, which is used as the value of the `as` variable in the `with` statement.\n",
        "- **Exiting Print Statement**: The function prints `‘Exiting: {name}’` after the `with` block is exited.\n",
        "- **With Statement**: The `with` statement uses two context managers, `make_context('A')` and `make_context('B')`. The returned values are assigned to `A` and `B` respectively.\n",
        "- **Inside With Print Statement**: The block of code within the `with` statement prints `‘Inside with: {A}, {B}’` where `{A}` and `{B}` are the values returned by the `make_context` function.\n"
      ],
      "metadata": {
        "id": "Xtbfwi1vxF6U"
      }
    },
    {
      "cell_type": "markdown",
      "source": [
        "## Summary\n",
        "\n",
        "Context managers in Python provide a concise and readable way to handle resource management tasks. By using the `with` statement, you can ensure that resources are properly acquired and released, and by creating custom context managers, you can tailor resource management to your specific needs."
      ],
      "metadata": {
        "id": "kIEcexmvoiZK"
      }
    }
  ]
}