{
  "nbformat": 4,
  "nbformat_minor": 0,
  "metadata": {
    "colab": {
      "provenance": []
    },
    "kernelspec": {
      "name": "python3",
      "display_name": "Python 3"
    },
    "language_info": {
      "name": "python"
    }
  },
  "cells": [
    {
      "cell_type": "markdown",
      "source": [
        "# Iterators in Python\n",
        "\n",
        "## Introduction\n",
        "\n",
        "An iterator is an object that allows you to traverse through all the elements of a collection (like a list or tuple) one at a time. In Python, an iterator is an object which implements the iterator protocol, consisting of the methods `__iter__()` and `__next__()`.\n",
        "\n",
        "## Iterator Protocol\n",
        "\n",
        "- **`__iter__()`**: This method returns the iterator object itself.\n",
        "- **`__next__()`**: This method returns the next value from the iterator. If there are no more items to return, it raises the `StopIteration` exception.\n",
        "\n",
        "## Creating Iterators\n",
        "\n",
        "In Python, we can create iterators for any iterable objects such as lists, tuples, sets, and dictionaries.\n",
        "\n",
        "## Use Cases\n",
        "\n",
        "- **Handling Large Data Streams**: Iterators are powerful tools when dealing with large stream of data.\n",
        "- **Memory Efficiency**: If we use regular list to store values, the computer would run out of memory quickly. With iterators, we can save resources as they return only one element at a time, meaning we can deal with infinite data in finite memory.\n",
        "- **Implementation**: Iterators are implemented in Python using Generators.\n",
        "- **Database Query**: Iterators can be used to fetch large amounts of data from a database without loading all the data into memory at once.\n",
        "- **File Processing**: When processing large files, iterators can be used to read data line by line, instead of loading the entire file into memory.\n"
      ],
      "metadata": {
        "id": "jexCawuQsh4h"
      }
    },
    {
      "cell_type": "markdown",
      "source": [
        "## Examples\n"
      ],
      "metadata": {
        "id": "xotNQzPmG3sE"
      }
    },
    {
      "cell_type": "markdown",
      "source": [
        "### Example 1: Iterating Over a String\n"
      ],
      "metadata": {
        "id": "8wY8ffpl1K0t"
      }
    },
    {
      "cell_type": "code",
      "source": [
        "# Creating an iterator for a string\n",
        "string1 = \"Hi, AR\"\n",
        "iter1 = iter(string1)\n",
        "\n",
        "# Accessing elements using next()\n",
        "print(next(iter1))\n",
        "print(next(iter1))\n",
        "print(next(iter1))\n",
        "print(next(iter1))\n",
        "print(next(iter1))\n",
        "print(next(iter1))\n",
        "# print(next(iter1)) # Raises a StopIteration"
      ],
      "metadata": {
        "colab": {
          "base_uri": "https://localhost:8080/"
        },
        "id": "dMwWB2Ml1OA6",
        "outputId": "29ad8d01-4c32-4557-d4df-79aa54a13063"
      },
      "execution_count": 17,
      "outputs": [
        {
          "output_type": "stream",
          "name": "stdout",
          "text": [
            "H\n",
            "i\n",
            ",\n",
            " \n",
            "A\n",
            "R\n"
          ]
        }
      ]
    },
    {
      "cell_type": "markdown",
      "source": [
        "#### Explanation\n",
        "\n",
        "- **Creating an Iterator**: An iterator object `iter1` is created from the string using the `iter()` function. This function returns an iterator object that we can traverse.\n",
        "- **Accessing Elements**: The `next()` function is used to access and print each character from the string. Each call to `next(iter1)` retrieves the next character from the string.\n",
        "- **StopIteration Exception**: If we try to use `next()` when there are no more elements left to iterate over, it will raise a `StopIteration` exception.\n"
      ],
      "metadata": {
        "id": "Zw0pFC32FN1n"
      }
    },
    {
      "cell_type": "markdown",
      "source": [
        "### Example 2: Iterating Over Lists, Tuples, and Sets\n"
      ],
      "metadata": {
        "id": "ddgnwMTJGkdV"
      }
    },
    {
      "cell_type": "code",
      "source": [
        "# Creating an iterator for list, tuple, and set\n",
        "marks = [91, 94, 95, 78, 89]\n",
        "planes = (\"Airbus\", \"Boeing\")\n",
        "sub = {\"Python\", \"Java\", \"Python\"} # {\"Python\", \"Java\"}\n",
        "\n",
        "iter1 = iter(marks)\n",
        "iter2 = iter(planes)\n",
        "iter3 = iter(sub)\n",
        "\n",
        "# Accessing elements using next()\n",
        "print(next(iter1))\n",
        "print(next(iter2))\n",
        "print(next(iter3))"
      ],
      "metadata": {
        "colab": {
          "base_uri": "https://localhost:8080/"
        },
        "id": "5d3d4s5X48Zp",
        "outputId": "b49a8240-478f-4e1c-e7bb-4c2503fc6ee9"
      },
      "execution_count": 18,
      "outputs": [
        {
          "output_type": "stream",
          "name": "stdout",
          "text": [
            "91\n",
            "Airbus\n",
            "Python\n"
          ]
        }
      ]
    },
    {
      "cell_type": "markdown",
      "source": [
        "### Example 3: Iterating Over a Dictionary\n"
      ],
      "metadata": {
        "id": "WEkMtMlQHIGF"
      }
    },
    {
      "cell_type": "code",
      "source": [
        "# Creating an iterator for a dictionary\n",
        "marks = {\"A\":10, \"B\":20, \"C\":30, \"D\":40, \"E\":50}\n",
        "\n",
        "iter1 = iter(marks) # Iterates over the keys\n",
        "iter2 = iter(marks.values()) # Iterates over the values\n",
        "iter3 = iter(marks.items()) # Iterates over the key-value pairs\n",
        "\n",
        "# Accessing elements using next()\n",
        "print(next(iter1))\n",
        "print(next(iter2))\n",
        "print(next(iter3))\n",
        "print(next(iter2))"
      ],
      "metadata": {
        "colab": {
          "base_uri": "https://localhost:8080/"
        },
        "id": "-eiCWj8h661h",
        "outputId": "b5e653af-1f0e-4d41-bd25-9bb7a86d22fc"
      },
      "execution_count": 19,
      "outputs": [
        {
          "output_type": "stream",
          "name": "stdout",
          "text": [
            "A\n",
            "10\n",
            "('A', 10)\n",
            "20\n"
          ]
        }
      ]
    },
    {
      "cell_type": "markdown",
      "source": [
        "### Example 4: Iterating Over a List Using a While Loop\n"
      ],
      "metadata": {
        "id": "xj4x7PWJP5yJ"
      }
    },
    {
      "cell_type": "code",
      "source": [
        "num_list = [2, 4, 2, 7]\n",
        "iter1 = iter(num_list)\n",
        "\n",
        "# Accessing elements using while loop\n",
        "while True:\n",
        "  try:\n",
        "    element = next(iter1)\n",
        "    print(element)\n",
        "  except StopIteration:\n",
        "    break"
      ],
      "metadata": {
        "colab": {
          "base_uri": "https://localhost:8080/"
        },
        "id": "CNedKlWvvshJ",
        "outputId": "ebd664db-82e4-47f0-9c36-82a31d54dc0c"
      },
      "execution_count": 20,
      "outputs": [
        {
          "output_type": "stream",
          "name": "stdout",
          "text": [
            "2\n",
            "4\n",
            "2\n",
            "7\n"
          ]
        }
      ]
    },
    {
      "cell_type": "markdown",
      "source": [
        "#### Explanation\n",
        "\n",
        "- **Creating an Iterator**: An iterator object `iter1` is created from the list using the `iter()` function. This function returns an iterator object that we can traverse.\n",
        "- **Accessing Elements Using a While Loop**: A `while` loop is used to access and print each element from the list. Inside the loop, the `next()` function is used to retrieve the next element from the iterator. This element is then printed.\n",
        "  - The `try` block attempts to retrieve the next element using `next(iter1)` and print it.\n",
        "  - If there are no more elements left to iterate over, the `next()` function will raise a `StopIteration` exception.\n",
        "  - The `except StopIteration` block catches this exception and breaks the loop, effectively ending the iteration process.\n"
      ],
      "metadata": {
        "id": "jf5JGqDPGWGE"
      }
    },
    {
      "cell_type": "markdown",
      "source": [
        "### Example 5: Custom Iterator with `__iter__()` and `__next__()` Methods\n"
      ],
      "metadata": {
        "id": "54_CVVMIQX36"
      }
    },
    {
      "cell_type": "code",
      "source": [
        "# Creating an iterator by implementing iter() and next() methods\n",
        "class NumberSeq:\n",
        "  def __iter__(self):\n",
        "    self.a = 10\n",
        "    return self\n",
        "\n",
        "  def __next__(self):\n",
        "    x = self.a\n",
        "    self.a += 10\n",
        "    return x\n",
        "\n",
        "myclass = NumberSeq()\n",
        "myiter = iter(myclass)\n",
        "\n",
        "# Calculating sequences using next()\n",
        "print(next(myiter))\n",
        "print(next(myiter))\n",
        "print(next(myiter))\n",
        "print(next(myiter))\n",
        "print(next(myiter))"
      ],
      "metadata": {
        "colab": {
          "base_uri": "https://localhost:8080/"
        },
        "id": "_2uoIkYshmhF",
        "outputId": "aa490ac0-5c07-4dfd-c23b-bfe98fd1ccb3"
      },
      "execution_count": 21,
      "outputs": [
        {
          "output_type": "stream",
          "name": "stdout",
          "text": [
            "10\n",
            "20\n",
            "30\n",
            "40\n",
            "50\n"
          ]
        }
      ]
    },
    {
      "cell_type": "markdown",
      "source": [
        "#### Explanation\n",
        "\n",
        "- **Class Definition**: The class `NumberSeq` is defined. This class will be used to create an iterator object.\n",
        "- **Iterator Initialization**: The `__iter__()` method is defined. This method initializes the iterator with a starting value of 10. It returns the iterator object `(self)`.\n",
        "- **Next Element Calculation**: The `__next__()` method is defined. This method calculates the next value in the sequence by adding 10 to the current value. It then returns this new value.\n",
        "- **Iterator Object Creation**: An object of the `NumberSeq` class is created and assigned to the variable myclass. The `iter()` function is then called with `myclass` as the argument to create an iterator object, which is assigned to the variable `myiter`.\n",
        "- **Sequence Generation**: The `next()` function is called multiple times on `myiter`. Each call to `next()` returns the next value in the sequence and prints it.\n"
      ],
      "metadata": {
        "id": "uBqXdSFzHxng"
      }
    },
    {
      "cell_type": "markdown",
      "source": [
        "### Example 6: Custom Iterator with `StopIteration`\n"
      ],
      "metadata": {
        "id": "PvTfmIpOQuqq"
      }
    },
    {
      "cell_type": "code",
      "source": [
        "# Creating an iterator by implementing StopIteration\n",
        "class NumberSeq:\n",
        "  def __iter__(self):\n",
        "    self.a = 10\n",
        "    return self\n",
        "\n",
        "  def __next__(self):\n",
        "    if self.a <= 50:\n",
        "      x = self.a\n",
        "      self.a += 10\n",
        "      return x\n",
        "    else:\n",
        "      raise StopIteration\n",
        "\n",
        "myclass = NumberSeq()\n",
        "myiter = iter(myclass)\n",
        "\n",
        "# Calculating sequences using for loop\n",
        "for x in myiter:\n",
        "  print(x)"
      ],
      "metadata": {
        "colab": {
          "base_uri": "https://localhost:8080/"
        },
        "id": "aTmj7ng3l4vW",
        "outputId": "ae9abddf-c179-400d-f65c-417c6f37f7fc"
      },
      "execution_count": 22,
      "outputs": [
        {
          "output_type": "stream",
          "name": "stdout",
          "text": [
            "10\n",
            "20\n",
            "30\n",
            "40\n",
            "50\n"
          ]
        }
      ]
    },
    {
      "cell_type": "markdown",
      "source": [
        "### Example 7: Even Number Iterator\n"
      ],
      "metadata": {
        "id": "yAPGhe1bQ6Zm"
      }
    },
    {
      "cell_type": "code",
      "source": [
        "# Program to print even numbers till given number using Iterators\n",
        "class Even:\n",
        "  def __init__(self, max):\n",
        "    self.n = 2\n",
        "    self.max = max\n",
        "\n",
        "  def __iter__(self):\n",
        "    return self\n",
        "\n",
        "  def __next__(self):\n",
        "    if self.n <= self.max:\n",
        "      result = self.n\n",
        "      self.n += 2\n",
        "      return result\n",
        "    else:\n",
        "      raise StopIteration\n",
        "\n",
        "max = 10\n",
        "# numbers = Even(max)\n",
        "# print(next(numbers))\n",
        "# print(next(numbers))\n",
        "# print(next(numbers))\n",
        "# print(next(numbers))\n",
        "# print(next(numbers))\n",
        "# print(next(numbers)) # Raises a StopIteration\n",
        "for i in Even(max):\n",
        "  print(i)"
      ],
      "metadata": {
        "colab": {
          "base_uri": "https://localhost:8080/"
        },
        "id": "HX9_EcMi9TAo",
        "outputId": "3484e3d5-ae68-4cbf-8dd8-05caa8a210c7"
      },
      "execution_count": 23,
      "outputs": [
        {
          "output_type": "stream",
          "name": "stdout",
          "text": [
            "2\n",
            "4\n",
            "6\n",
            "8\n",
            "10\n"
          ]
        }
      ]
    },
    {
      "cell_type": "markdown",
      "source": [
        "#### Explanation\n",
        "\n",
        "- **Class Definition**: The class `Even` is defined. This class will be used to create an iterator object that generates even numbers.\n",
        "- **Initialization**: The `__init__()` method is defined. This method initializes the iterator with a starting value of 2 and sets the maximum value to the value passed as an argument.\n",
        "- **Iterator Initialization**: The `__iter__()` method is defined. This method returns the iterator object `(self)`.\n",
        "- **Next Element Calculation**: The `__next__()` method is defined. This method checks if the current number is less than or equal to the maximum value. If it is, it returns the current number and increments it by 2. If the current number is greater than the maximum value, it raises a `StopIteration` exception.\n",
        "- **Sequence Generation**: A `for` loop is used to iterate over the `Even` object. This prints all even numbers from 2 up to the maximum value.\n"
      ],
      "metadata": {
        "id": "-XPg-6vdJFfA"
      }
    },
    {
      "cell_type": "markdown",
      "source": [
        "### Example 8: Power of Two Iterator (2^x)\n"
      ],
      "metadata": {
        "id": "ttEIycf1RBjC"
      }
    },
    {
      "cell_type": "code",
      "source": [
        "# Program to print power of 2 till given power using Iterators\n",
        "class PowTwo:\n",
        "  def __init__(self, max = 0):\n",
        "    self.max = max\n",
        "\n",
        "  def __iter__(self):\n",
        "    self.n = 0\n",
        "    return self\n",
        "\n",
        "  def __next__(self):\n",
        "    if self.n <= self.max:\n",
        "      result = 2 ** self.n\n",
        "      self.n += 1\n",
        "      return result\n",
        "    else:\n",
        "      raise StopIteration\n",
        "\n",
        "power = 5\n",
        "# numbers = PowTwo(power)\n",
        "# values = iter(numbers)\n",
        "\n",
        "# print(next(values))\n",
        "# print(next(values))\n",
        "# print(next(values))\n",
        "# print(next(values))\n",
        "# print(next(values))\n",
        "# print(next(values))\n",
        "# print(next(values)) # Raises a StopIteration\n",
        "for i in PowTwo(power):\n",
        "    print(i)"
      ],
      "metadata": {
        "colab": {
          "base_uri": "https://localhost:8080/"
        },
        "id": "MLrov6_cEe8T",
        "outputId": "d76b811e-66a1-4e94-d289-118b0ef2f093"
      },
      "execution_count": 24,
      "outputs": [
        {
          "output_type": "stream",
          "name": "stdout",
          "text": [
            "1\n",
            "2\n",
            "4\n",
            "8\n",
            "16\n",
            "32\n"
          ]
        }
      ]
    },
    {
      "cell_type": "markdown",
      "source": [
        "#### Explanation\n",
        "\n",
        "- **Class Definition**: The class `PowTwo` is defined. This class will be used to create an iterator object that generates powers of 2.\n",
        "- **Initialization**: The `__init__()` method is defined. This method initializes the iterator with a maximum power value passed as an argument.\n",
        "- **Iterator Initialization**: The `__iter__()` method is defined. This method initializes the power value `(self.n)` to 0 and returns the iterator object `(self)`.\n",
        "- **Next Element Calculation**: The `__next__()` method is defined. This method checks if the current power `(self.n)` is less than or equal to the maximum power `(self.max)`. If it is, it calculates the next power of 2 `(2 ** self.n)`, increments the power by 1, and returns the result. If the current power is greater than the maximum power, it raises a `StopIteration` exception.\n",
        "- **Sequence Generation**: A `for` loop is used to iterate over the `PowTwo` object. This prints all powers of 2 from 2^0 up to 2^power.\n"
      ],
      "metadata": {
        "id": "ZglJ-1IAJ8I3"
      }
    },
    {
      "cell_type": "markdown",
      "source": [
        "## Summary\n",
        "\n",
        "Iterators in Python provide a convenient way to access elements from an iterable one at a time without loading the entire data structure into memory. By using the iterator protocol (`__iter__()` and `__next__()` methods), you can create custom iterators to suit specific needs.\n"
      ],
      "metadata": {
        "id": "hV2AXupdRVQ9"
      }
    }
  ]
}